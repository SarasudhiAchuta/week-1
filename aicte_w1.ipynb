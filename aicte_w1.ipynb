{
  "nbformat": 4,
  "nbformat_minor": 0,
  "metadata": {
    "colab": {
      "provenance": []
    },
    "kernelspec": {
      "name": "python3",
      "display_name": "Python 3"
    },
    "language_info": {
      "name": "python"
    }
  },
  "cells": [
    {
      "cell_type": "code",
      "execution_count": 1,
      "metadata": {
        "colab": {
          "base_uri": "https://localhost:8080/"
        },
        "id": "WIJfXg7-LXQz",
        "outputId": "8d96c894-0774-4845-cd70-dc4c0d9dcaac"
      },
      "outputs": [
        {
          "output_type": "stream",
          "name": "stdout",
          "text": [
            "Warning: Looks like you're using an outdated `kagglehub` version (installed: 0.3.12), please consider upgrading to the latest version (0.3.13).\n",
            "Downloading from https://www.kaggle.com/api/v1/datasets/download/omoleoluwatoyinjoy/noise-pollution-dataset?dataset_version_number=1...\n"
          ]
        },
        {
          "output_type": "stream",
          "name": "stderr",
          "text": [
            "100%|██████████| 11.2G/11.2G [02:03<00:00, 97.5MB/s]"
          ]
        },
        {
          "output_type": "stream",
          "name": "stdout",
          "text": [
            "Extracting files...\n"
          ]
        },
        {
          "output_type": "stream",
          "name": "stderr",
          "text": [
            "\n"
          ]
        },
        {
          "output_type": "stream",
          "name": "stdout",
          "text": [
            "Path to dataset files: /root/.cache/kagglehub/datasets/omoleoluwatoyinjoy/noise-pollution-dataset/versions/1\n"
          ]
        }
      ],
      "source": [
        "import kagglehub\n",
        "\n",
        "# Download latest version\n",
        "path = kagglehub.dataset_download(\"omoleoluwatoyinjoy/noise-pollution-dataset\")\n",
        "\n",
        "print(\"Path to dataset files:\", path)"
      ]
    },
    {
      "cell_type": "code",
      "source": [
        "import pandas as pd\n",
        "import os\n",
        "\n",
        "# Path from kagglehub\n",
        "print(\"Dataset folder:\", path)"
      ],
      "metadata": {
        "colab": {
          "base_uri": "https://localhost:8080/"
        },
        "id": "2z0GR_Y4NAxZ",
        "outputId": "cf1e0642-87a3-4b85-9586-e275c7ff0784"
      },
      "execution_count": 2,
      "outputs": [
        {
          "output_type": "stream",
          "name": "stdout",
          "text": [
            "Dataset folder: /root/.cache/kagglehub/datasets/omoleoluwatoyinjoy/noise-pollution-dataset/versions/1\n"
          ]
        }
      ]
    },
    {
      "cell_type": "code",
      "source": [
        "path = \"/root/.cache/kagglehub/datasets/omoleoluwatoyinjoy/noise-pollution-dataset/versions/1\"\n"
      ],
      "metadata": {
        "id": "Gc-QcNCPNMWO"
      },
      "execution_count": 7,
      "outputs": []
    },
    {
      "cell_type": "code",
      "source": [
        "print(\"📂 Files in dataset folder:\")\n",
        "print(os.listdir(path))"
      ],
      "metadata": {
        "colab": {
          "base_uri": "https://localhost:8080/"
        },
        "id": "CzeCWHOqNMYu",
        "outputId": "25199354-15e6-4c60-8d6b-398ef7f7c940"
      },
      "execution_count": 8,
      "outputs": [
        {
          "output_type": "stream",
          "name": "stdout",
          "text": [
            "📂 Files in dataset folder:\n",
            "['AUDIO_CLIPS', 'datafest-africa-2022']\n"
          ]
        }
      ]
    },
    {
      "cell_type": "code",
      "source": [
        "csv_file = os.path.join(path, \"datafest-africa-2022\", \"Train.csv\")\n",
        "df = pd.read_csv(csv_file)"
      ],
      "metadata": {
        "id": "NAafBZz7NMbW"
      },
      "execution_count": 14,
      "outputs": []
    },
    {
      "cell_type": "code",
      "source": [
        "csv_file = os.path.join(path, \"datafest-africa-2022\", \"Train.csv\")\n"
      ],
      "metadata": {
        "id": "vR1YvLqsNMeQ"
      },
      "execution_count": 15,
      "outputs": []
    },
    {
      "cell_type": "code",
      "source": [
        "df = pd.read_csv(csv_file)"
      ],
      "metadata": {
        "id": "205Aj7yNNMg5"
      },
      "execution_count": 16,
      "outputs": []
    },
    {
      "cell_type": "code",
      "source": [
        "print(\"\\n🔎 First 5 rows:\")\n",
        "print(df.head())"
      ],
      "metadata": {
        "colab": {
          "base_uri": "https://localhost:8080/"
        },
        "id": "1NQ05rjfNMji",
        "outputId": "ffc36d45-a923-4b95-ad19-7621a1049ca6"
      },
      "execution_count": 17,
      "outputs": [
        {
          "output_type": "stream",
          "name": "stdout",
          "text": [
            "\n",
            "🔎 First 5 rows:\n",
            "       CLIP_ID                  category\n",
            "0  ID_RX0ERYVE                    school\n",
            "1  ID_RG7TUTFN        boda-boda-motocyle\n",
            "2  ID_XQ2O77I0  bar-restaurant-nightclub\n",
            "3  ID_K5G9YVJS                 generator\n",
            "4  ID_S2W5EPQP           community-radio\n"
          ]
        }
      ]
    },
    {
      "cell_type": "code",
      "source": [
        "print(\"\\n📊 Dataset Info:\")\n",
        "print(df.info())"
      ],
      "metadata": {
        "colab": {
          "base_uri": "https://localhost:8080/"
        },
        "id": "UlzIJaKkNMmy",
        "outputId": "dd6d48d2-37ad-415f-9cfe-6d146b7b1ec0"
      },
      "execution_count": 18,
      "outputs": [
        {
          "output_type": "stream",
          "name": "stdout",
          "text": [
            "\n",
            "📊 Dataset Info:\n",
            "<class 'pandas.core.frame.DataFrame'>\n",
            "RangeIndex: 28955 entries, 0 to 28954\n",
            "Data columns (total 2 columns):\n",
            " #   Column    Non-Null Count  Dtype \n",
            "---  ------    --------------  ----- \n",
            " 0   CLIP_ID   28955 non-null  object\n",
            " 1   category  28955 non-null  object\n",
            "dtypes: object(2)\n",
            "memory usage: 452.6+ KB\n",
            "None\n"
          ]
        }
      ]
    },
    {
      "cell_type": "code",
      "source": [
        "print(\"\\n📏 Missing values per column:\")\n",
        "print(df.isnull().sum())\n"
      ],
      "metadata": {
        "colab": {
          "base_uri": "https://localhost:8080/"
        },
        "id": "Q_dCkBVENMqL",
        "outputId": "f3adceea-8aec-4568-88ac-01eda812ab1b"
      },
      "execution_count": 19,
      "outputs": [
        {
          "output_type": "stream",
          "name": "stdout",
          "text": [
            "\n",
            "📏 Missing values per column:\n",
            "CLIP_ID     0\n",
            "category    0\n",
            "dtype: int64\n"
          ]
        }
      ]
    },
    {
      "cell_type": "code",
      "source": [
        "# Step 7: Basic cleaning\n",
        "print(\"\\nBefore cleaning:\", df.shape)\n",
        "df_clean = df.dropna()\n",
        "print(\"After cleaning:\", df_clean.shape)\n",
        "\n",
        "# Step 8: Encode categorical columns\n",
        "print(\"\\nColumn Data Types:\")\n",
        "print(df_clean.dtypes)\n",
        "\n",
        "df_processed = pd.get_dummies(df_clean, drop_first=True)\n",
        "\n",
        "print(\"\\nProcessed dataset shape:\", df_processed.shape)\n",
        "\n",
        "# Step 9: Save preprocessed dataset\n",
        "processed_file = \"processed_noise_data.csv\"\n",
        "df_processed.to_csv(processed_file, index=False)\n",
        "\n",
        "print(f\"\\n✅ Preprocessed dataset saved as {processed_file}\")\n"
      ],
      "metadata": {
        "colab": {
          "base_uri": "https://localhost:8080/"
        },
        "id": "UnQGEtOuTcjm",
        "outputId": "b01a2e2e-8d61-44fc-c63a-9b0cc2fae49e"
      },
      "execution_count": null,
      "outputs": [
        {
          "metadata": {
            "tags": null
          },
          "name": "stdout",
          "output_type": "stream",
          "text": [
            "\n",
            "Before cleaning: (28955, 2)\n",
            "After cleaning: (28955, 2)\n",
            "\n",
            "Column Data Types:\n",
            "CLIP_ID     object\n",
            "category    object\n",
            "dtype: object\n",
            "\n",
            "Processed dataset shape: (28955, 28972)\n"
          ]
        }
      ]
    }
  ]
}